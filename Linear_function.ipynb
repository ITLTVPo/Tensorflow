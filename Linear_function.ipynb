{
  "nbformat": 4,
  "nbformat_minor": 0,
  "metadata": {
    "colab": {
      "name": "Linear_function.ipynb",
      "provenance": [],
      "toc_visible": true,
      "include_colab_link": true
    },
    "kernelspec": {
      "display_name": "Python 3",
      "name": "python3"
    }
  },
  "cells": [
    {
      "cell_type": "markdown",
      "metadata": {
        "id": "view-in-github",
        "colab_type": "text"
      },
      "source": [
        "<a href=\"https://colab.research.google.com/github/ITLTVPo/Tensorflow/blob/master/Linear_function.ipynb\" target=\"_parent\"><img src=\"https://colab.research.google.com/assets/colab-badge.svg\" alt=\"Open In Colab\"/></a>"
      ]
    },
    {
      "cell_type": "markdown",
      "metadata": {
        "id": "mw2VBrBcgvGa"
      },
      "source": [
        "Giả thiết: Giá khởi điểm của một căn nhà là 50k, với mỗi một phòng, giá trị căn nhà tăng thêm 50k. Ví dụ: 1 căn nhà không có phòng có giá 50k, căn nhà 1 phòng sẽ có giá 100k,..."
      ]
    },
    {
      "cell_type": "code",
      "metadata": {
        "id": "oPsfbGrzWq5w"
      },
      "source": [
        "import tensorflow as tf\n",
        "import numpy as np\n",
        "from tensorflow import keras"
      ],
      "execution_count": 2,
      "outputs": []
    },
    {
      "cell_type": "code",
      "metadata": {
        "id": "UbpwnX4zvJjy"
      },
      "source": [
        "model = keras.Sequential([keras.layers.Dense(units=1, input_shape = [1])])\n",
        "model.compile(optimizer='sgd', loss='mean_squared_error')"
      ],
      "execution_count": 3,
      "outputs": []
    },
    {
      "cell_type": "code",
      "metadata": {
        "id": "Fa1QetfJvMIW"
      },
      "source": [
        "xs = np.array([0.0,1.0,2.0,3.0,5.0,6.0,8.0,9.0],dtype=float)\n",
        "ys = np.array([0.50,1.0,1.5,2.0,3.0,3.5,4.5,5.0], dtype = float)"
      ],
      "execution_count": 4,
      "outputs": []
    },
    {
      "cell_type": "code",
      "metadata": {
        "id": "PUNO2E6SeURH"
      },
      "source": [
        "model.fit(xs,ys, epochs = 500)"
      ],
      "execution_count": null,
      "outputs": []
    },
    {
      "cell_type": "markdown",
      "metadata": {
        "id": "98kJrEtGUl3O"
      },
      "source": [
        "Test with normal nums:"
      ]
    },
    {
      "cell_type": "code",
      "metadata": {
        "id": "-SVlUwdVW72K",
        "colab": {
          "base_uri": "https://localhost:8080/"
        },
        "outputId": "3e60b968-6e09-4979-883a-2d76423615b9"
      },
      "source": [
        "print(model.predict([7.0])*100)"
      ],
      "execution_count": 6,
      "outputs": [
        {
          "output_type": "stream",
          "text": [
            "[[400.07452]]\n"
          ],
          "name": "stdout"
        }
      ]
    },
    {
      "cell_type": "markdown",
      "metadata": {
        "id": "pW6m7py1Usa8"
      },
      "source": [
        "negative number:"
      ]
    },
    {
      "cell_type": "code",
      "metadata": {
        "colab": {
          "base_uri": "https://localhost:8080/"
        },
        "id": "IOYVcJjYTqMf",
        "outputId": "4ae6e458-72ae-4afb-9b72-f9f2d78641e7"
      },
      "source": [
        "print(model.predict([-3]))"
      ],
      "execution_count": 7,
      "outputs": [
        {
          "output_type": "stream",
          "text": [
            "[[-1.011511]]\n"
          ],
          "name": "stdout"
        }
      ]
    },
    {
      "cell_type": "markdown",
      "metadata": {
        "id": "eYk0gjgOU0PN"
      },
      "source": [
        "test with large number:"
      ]
    },
    {
      "cell_type": "code",
      "metadata": {
        "colab": {
          "base_uri": "https://localhost:8080/"
        },
        "id": "UFUVegfBUCF7",
        "outputId": "55763a62-674b-4294-f9cc-de12e6952a47"
      },
      "source": [
        "print(model.predict([10000]))"
      ],
      "execution_count": 9,
      "outputs": [
        {
          "output_type": "stream",
          "text": [
            "[[5012.7485]]\n"
          ],
          "name": "stdout"
        }
      ]
    },
    {
      "cell_type": "markdown",
      "metadata": {
        "id": "PUj8OsKEU5TS"
      },
      "source": [
        "Test with number already in the array:"
      ]
    },
    {
      "cell_type": "code",
      "metadata": {
        "colab": {
          "base_uri": "https://localhost:8080/"
        },
        "id": "kLkOprCDUgDw",
        "outputId": "855887ab-a022-43a3-ec30-1a3eac873819"
      },
      "source": [
        "print(model.predict([0]))\n",
        "print(model.predict([1.0]))"
      ],
      "execution_count": 13,
      "outputs": [
        {
          "output_type": "stream",
          "text": [
            "[[0.4921659]]\n",
            "[[0.9933915]]\n"
          ],
          "name": "stdout"
        }
      ]
    }
  ]
}