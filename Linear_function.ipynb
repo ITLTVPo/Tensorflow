{
  "nbformat": 4,
  "nbformat_minor": 0,
  "metadata": {
    "colab": {
      "name": "Linear_function.ipynb",
      "provenance": [],
      "toc_visible": true,
      "include_colab_link": true
    },
    "kernelspec": {
      "display_name": "Python 3",
      "name": "python3"
    }
  },
  "cells": [
    {
      "cell_type": "markdown",
      "metadata": {
        "id": "view-in-github",
        "colab_type": "text"
      },
      "source": [
        "<a href=\"https://colab.research.google.com/github/ITLTVPo/Tensorflow/blob/master/Linear_function.ipynb\" target=\"_parent\"><img src=\"https://colab.research.google.com/assets/colab-badge.svg\" alt=\"Open In Colab\"/></a>"
      ]
    },
    {
      "cell_type": "markdown",
      "metadata": {
        "id": "mw2VBrBcgvGa"
      },
      "source": [
        "Giả thiết: Giá khởi điểm của một căn nhà là 50k, với mỗi một phòng, giá trị căn nhà tăng thêm 50k. Ví dụ: 1 căn nhà không có phòng có giá 50k, căn nhà 1 phòng sẽ có giá 100k,..."
      ]
    },
    {
      "cell_type": "code",
      "metadata": {
        "id": "oPsfbGrzWq5w"
      },
      "source": [
        "import tensorflow as tf\n",
        "import numpy as np\n",
        "from tensorflow import keras"
      ],
      "execution_count": 2,
      "outputs": []
    },
    {
      "cell_type": "code",
      "metadata": {
        "id": "UbpwnX4zvJjy"
      },
      "source": [
        "model = keras.Sequential([keras.layers.Dense(units=1, input_shape = [1])])\n",
        "model.compile(optimizer='sgd', loss='mean_squared_error')"
      ],
      "execution_count": 3,
      "outputs": []
    },
    {
      "cell_type": "code",
      "metadata": {
        "id": "Fa1QetfJvMIW"
      },
      "source": [
        "xs = np.array([0.0,1.0,2.0,3.0,5.0,6.0,8.0,9.0],dtype=float)\n",
        "ys = np.array([0.50,1.0,1.5,2.0,3.0,3.5,4.5,5.0], dtype = float)"
      ],
      "execution_count": 14,
      "outputs": []
    },
    {
      "cell_type": "code",
      "metadata": {
        "id": "PUNO2E6SeURH"
      },
      "source": [
        "model.fit(xs,ys, epochs = 500)"
      ],
      "execution_count": null,
      "outputs": []
    },
    {
      "cell_type": "code",
      "metadata": {
        "id": "-SVlUwdVW72K",
        "colab": {
          "base_uri": "https://localhost:8080/"
        },
        "outputId": "8227b997-4fa2-4b59-9077-d8a8e29687e1"
      },
      "source": [
        "print(model.predict([7.0])*100)"
      ],
      "execution_count": 18,
      "outputs": [
        {
          "output_type": "stream",
          "text": [
            "[[399.55032]]\n"
          ],
          "name": "stdout"
        }
      ]
    }
  ]
}